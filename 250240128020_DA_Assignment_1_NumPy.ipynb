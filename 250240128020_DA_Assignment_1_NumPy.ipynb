{
 "cells": [
  {
   "cell_type": "markdown",
   "metadata": {
    "id": "iefHh9bG3NOK"
   },
   "source": [
    "##PRN No. : 250240128020, Name. : Kishan Prakash"
   ]
  },
  {
   "cell_type": "code",
   "execution_count": 2,
   "metadata": {
    "id": "NBCKWmz9CUCw"
   },
   "outputs": [],
   "source": [
    "import numpy as np"
   ]
  },
  {
   "cell_type": "markdown",
   "metadata": {
    "id": "DBJ70H2R0kJl"
   },
   "source": [
    "Write a NumPy program to get the numpy version and show numpy build configuration.\n"
   ]
  },
  {
   "cell_type": "code",
   "execution_count": 3,
   "metadata": {
    "colab": {
     "base_uri": "https://localhost:8080/"
    },
    "id": "GVeT3GYV2sbk",
    "outputId": "b14dafc8-b175-4833-ec5d-ba00cdb9065e"
   },
   "outputs": [
    {
     "name": "stdout",
     "output_type": "stream",
     "text": [
      "blas_mkl_info:\n",
      "    libraries = ['mkl_rt']\n",
      "    library_dirs = ['C:/ProgramData/Anaconda3\\\\Library\\\\lib']\n",
      "    define_macros = [('SCIPY_MKL_H', None), ('HAVE_CBLAS', None)]\n",
      "    include_dirs = ['C:/ProgramData/Anaconda3\\\\Library\\\\include']\n",
      "blas_opt_info:\n",
      "    libraries = ['mkl_rt']\n",
      "    library_dirs = ['C:/ProgramData/Anaconda3\\\\Library\\\\lib']\n",
      "    define_macros = [('SCIPY_MKL_H', None), ('HAVE_CBLAS', None)]\n",
      "    include_dirs = ['C:/ProgramData/Anaconda3\\\\Library\\\\include']\n",
      "lapack_mkl_info:\n",
      "    libraries = ['mkl_rt']\n",
      "    library_dirs = ['C:/ProgramData/Anaconda3\\\\Library\\\\lib']\n",
      "    define_macros = [('SCIPY_MKL_H', None), ('HAVE_CBLAS', None)]\n",
      "    include_dirs = ['C:/ProgramData/Anaconda3\\\\Library\\\\include']\n",
      "lapack_opt_info:\n",
      "    libraries = ['mkl_rt']\n",
      "    library_dirs = ['C:/ProgramData/Anaconda3\\\\Library\\\\lib']\n",
      "    define_macros = [('SCIPY_MKL_H', None), ('HAVE_CBLAS', None)]\n",
      "    include_dirs = ['C:/ProgramData/Anaconda3\\\\Library\\\\include']\n"
     ]
    }
   ],
   "source": [
    "np.__version__\n",
    "np.show_config()"
   ]
  },
  {
   "cell_type": "markdown",
   "metadata": {
    "id": "6OZNL1N20kHN"
   },
   "source": [
    "Write a NumPy program to get help on the add function.\n"
   ]
  },
  {
   "cell_type": "code",
   "execution_count": 4,
   "metadata": {
    "colab": {
     "base_uri": "https://localhost:8080/"
    },
    "id": "Z5mTplaB2vPd",
    "outputId": "ae746367-0613-42a4-846f-2ad6449ed4b5"
   },
   "outputs": [
    {
     "name": "stdout",
     "output_type": "stream",
     "text": [
      "add(x1, x2, /, out=None, *, where=True, casting='same_kind', order='K', dtype=None, subok=True[, signature, extobj])\n",
      "\n",
      "Add arguments element-wise.\n",
      "\n",
      "Parameters\n",
      "----------\n",
      "x1, x2 : array_like\n",
      "    The arrays to be added.\n",
      "    If ``x1.shape != x2.shape``, they must be broadcastable to a common\n",
      "    shape (which becomes the shape of the output).\n",
      "out : ndarray, None, or tuple of ndarray and None, optional\n",
      "    A location into which the result is stored. If provided, it must have\n",
      "    a shape that the inputs broadcast to. If not provided or None,\n",
      "    a freshly-allocated array is returned. A tuple (possible only as a\n",
      "    keyword argument) must have length equal to the number of outputs.\n",
      "where : array_like, optional\n",
      "    This condition is broadcast over the input. At locations where the\n",
      "    condition is True, the `out` array will be set to the ufunc result.\n",
      "    Elsewhere, the `out` array will retain its original value.\n",
      "    Note that if an uninitialized `out` array is created via the default\n",
      "    ``out=None``, locations within it where the condition is False will\n",
      "    remain uninitialized.\n",
      "**kwargs\n",
      "    For other keyword-only arguments, see the\n",
      "    :ref:`ufunc docs <ufuncs.kwargs>`.\n",
      "\n",
      "Returns\n",
      "-------\n",
      "add : ndarray or scalar\n",
      "    The sum of `x1` and `x2`, element-wise.\n",
      "    This is a scalar if both `x1` and `x2` are scalars.\n",
      "\n",
      "Notes\n",
      "-----\n",
      "Equivalent to `x1` + `x2` in terms of array broadcasting.\n",
      "\n",
      "Examples\n",
      "--------\n",
      ">>> np.add(1.0, 4.0)\n",
      "5.0\n",
      ">>> x1 = np.arange(9.0).reshape((3, 3))\n",
      ">>> x2 = np.arange(3.0)\n",
      ">>> np.add(x1, x2)\n",
      "array([[  0.,   2.,   4.],\n",
      "       [  3.,   5.,   7.],\n",
      "       [  6.,   8.,  10.]])\n"
     ]
    }
   ],
   "source": [
    "np.info(np.add)"
   ]
  },
  {
   "cell_type": "markdown",
   "metadata": {
    "id": "e8k-PBng0kEl"
   },
   "source": [
    "Write a NumPy program to test whether none of the elements of a given array is zero.\n"
   ]
  },
  {
   "cell_type": "code",
   "execution_count": 5,
   "metadata": {
    "colab": {
     "base_uri": "https://localhost:8080/"
    },
    "id": "1d8V9TlPPauT",
    "outputId": "5210fd3d-59aa-4aad-83d4-d5ebf6ce2e3d"
   },
   "outputs": [
    {
     "name": "stdout",
     "output_type": "stream",
     "text": [
      "[1 2 3 4]\n",
      "True\n",
      "[0 1 2 3 4]\n",
      "False\n"
     ]
    }
   ],
   "source": [
    "x = np.array([1, 2, 3, 4])\n",
    "print(x)\n",
    "print(np.all(x))\n",
    "\n",
    "x = np.array([0, 1, 2, 3, 4])\n",
    "print(x)\n",
    "print(np.all(x))"
   ]
  },
  {
   "cell_type": "markdown",
   "metadata": {
    "id": "C2W-OEW29qc_"
   },
   "source": [
    "Write a NumPy program to test whether any of the elements of a given array is non-zero."
   ]
  },
  {
   "cell_type": "code",
   "execution_count": 6,
   "metadata": {
    "colab": {
     "base_uri": "https://localhost:8080/"
    },
    "id": "-Yyn9af09xrD",
    "outputId": "63bccdbd-ac0f-4a98-a14e-28941a1a709b"
   },
   "outputs": [
    {
     "name": "stdout",
     "output_type": "stream",
     "text": [
      "[1 0 0 0]\n",
      "True\n",
      "[0 0 0 0]\n",
      "False\n"
     ]
    }
   ],
   "source": [
    "x = np.array([1, 0, 0, 0])\n",
    "print(x)\n",
    "print(np.any(x))\n",
    "\n",
    "x = np.array([0, 0, 0, 0])\n",
    "print(x)\n",
    "print(np.any(x))"
   ]
  },
  {
   "cell_type": "markdown",
   "metadata": {
    "id": "3_gWq9d40j-1"
   },
   "source": [
    "Write a NumPy program to test a given array element-wise for finiteness (not infinity or not a\n",
    "Number).\n"
   ]
  },
  {
   "cell_type": "code",
   "execution_count": 7,
   "metadata": {
    "colab": {
     "base_uri": "https://localhost:8080/"
    },
    "id": "vfE3c4sS2xP1",
    "outputId": "22a4e8d5-5ff8-49be-ccd6-596983df1779"
   },
   "outputs": [
    {
     "name": "stdout",
     "output_type": "stream",
     "text": [
      "[ 1.  0. nan inf]\n",
      "[ True  True False False]\n"
     ]
    }
   ],
   "source": [
    "a = np.array([1, 0, np.nan, np.inf])\n",
    "print(a)\n",
    "print(np.isfinite(a))"
   ]
  },
  {
   "cell_type": "markdown",
   "metadata": {
    "id": "gHlFjsXX0j8d"
   },
   "source": [
    "Write a NumPy program to test element-wise for positive or negative infinity.\n"
   ]
  },
  {
   "cell_type": "code",
   "execution_count": 8,
   "metadata": {
    "colab": {
     "base_uri": "https://localhost:8080/"
    },
    "id": "SckP0fJA2xx0",
    "outputId": "63030752-24e3-4387-c937-db8c6006d237"
   },
   "outputs": [
    {
     "name": "stdout",
     "output_type": "stream",
     "text": [
      "[ inf -inf   0.   1.  -1.  nan]\n",
      "[ True False False False False False]\n",
      "[False  True False False False False]\n"
     ]
    }
   ],
   "source": [
    "sample_array = np.array([np.inf, -np.inf, 0, 1, -1, np.nan])\n",
    "\n",
    "positive_infinity = np.isposinf(sample_array)\n",
    "\n",
    "negative_infinity = np.isneginf(sample_array)\n",
    "\n",
    "print(sample_array)\n",
    "print(positive_infinity)\n",
    "print(negative_infinity)"
   ]
  },
  {
   "cell_type": "markdown",
   "metadata": {
    "id": "H18aDnYG0j52"
   },
   "source": [
    "Write a NumPy program to test element-wise for NaN of a given array.\n"
   ]
  },
  {
   "cell_type": "code",
   "execution_count": 9,
   "metadata": {
    "colab": {
     "base_uri": "https://localhost:8080/"
    },
    "id": "haUcBdHI2yak",
    "outputId": "11b17fe9-22fb-4f3c-82dd-39c2dce167e8"
   },
   "outputs": [
    {
     "name": "stdout",
     "output_type": "stream",
     "text": [
      "[ 1.  0. nan inf]\n",
      "[False False  True False]\n"
     ]
    }
   ],
   "source": [
    "a = np.array([1, 0, np.nan, np.inf])\n",
    "print(a)\n",
    "print(np.isnan(a))"
   ]
  },
  {
   "cell_type": "markdown",
   "metadata": {
    "id": "QdVIZfF20j3N"
   },
   "source": [
    "Write a NumPy program to test element-wise for complex number, real number of a given array. Also test whether a given number is a scalar type or not."
   ]
  },
  {
   "cell_type": "code",
   "execution_count": 10,
   "metadata": {
    "colab": {
     "base_uri": "https://localhost:8080/"
    },
    "id": "Q6fLer1c2zLM",
    "outputId": "49980d6d-6436-4c57-9f5b-5e8310dd6d5b"
   },
   "outputs": [
    {
     "name": "stdout",
     "output_type": "stream",
     "text": [
      "[1. +2.j 2. +0.j 3.5+0.j 0. +4.j nan+0.j]\n",
      "[ True False False  True False]\n",
      "[False  True  True False  True]\n",
      "Is 42 a scalar type?: True\n"
     ]
    }
   ],
   "source": [
    "sample_array = np.array([1 + 2j, 2, 3.5, 4j, np.nan])\n",
    "\n",
    "complex_numbers = np.iscomplex(sample_array)\n",
    "\n",
    "real_numbers = np.isreal(sample_array)\n",
    "\n",
    "number = 42\n",
    "is_scalar = np.isscalar(number)\n",
    "\n",
    "print(sample_array)\n",
    "print(complex_numbers)\n",
    "print(real_numbers)\n",
    "print(f\"Is {number} a scalar type?:\", is_scalar)"
   ]
  },
  {
   "cell_type": "markdown",
   "metadata": {
    "id": "LkNYSpCd0j0d"
   },
   "source": [
    "Write a NumPy program to create an element-wise comparison (greater, greater_equal, less and\n",
    "less_equal) of two given arrays.\n"
   ]
  },
  {
   "cell_type": "code",
   "execution_count": 11,
   "metadata": {
    "colab": {
     "base_uri": "https://localhost:8080/"
    },
    "id": "lyf4uRXf2zsE",
    "outputId": "f4c9c1d9-9c59-4e43-d95a-8030f06e2d61"
   },
   "outputs": [
    {
     "name": "stdout",
     "output_type": "stream",
     "text": [
      "Array1: [10 20 30 40 50]\n",
      "Array2: [15 20 25 40 60]\n",
      "Greater: [False False  True False False]\n",
      "Greater Equal: [False  True  True  True False]\n",
      "Less: [ True False False False  True]\n",
      "Less Equal: [ True  True False  True  True]\n"
     ]
    }
   ],
   "source": [
    "array1 = np.array([10, 20, 30, 40, 50])\n",
    "array2 = np.array([15, 20, 25, 40, 60])\n",
    "\n",
    "greater = np.greater(array1, array2)\n",
    "greater_equal = np.greater_equal(array1, array2)\n",
    "less = np.less(array1, array2)\n",
    "less_equal = np.less_equal(array1, array2)\n",
    "\n",
    "print(\"Array1:\", array1)\n",
    "print(\"Array2:\", array2)\n",
    "print(\"Greater:\", greater)\n",
    "print(\"Greater Equal:\", greater_equal)\n",
    "print(\"Less:\", less)\n",
    "print(\"Less Equal:\", less_equal)"
   ]
  },
  {
   "cell_type": "markdown",
   "metadata": {
    "id": "gaEQ7dxW0jx1"
   },
   "source": [
    "Write a NumPy program to create an array with the values 1, 7, 13, 105 and determine the size of\n",
    "the memory occupied by the array.\n"
   ]
  },
  {
   "cell_type": "code",
   "execution_count": 12,
   "metadata": {
    "colab": {
     "base_uri": "https://localhost:8080/"
    },
    "id": "jdp9MtIz2078",
    "outputId": "e75e474e-947e-4a1a-e3e9-57a5ee4f106e"
   },
   "outputs": [
    {
     "name": "stdout",
     "output_type": "stream",
     "text": [
      "Array: [  1   7  13 105]\n",
      "Memory size in bytes: 16\n"
     ]
    }
   ],
   "source": [
    "array = np.array([1, 7, 13, 105])\n",
    "\n",
    "memory_size = array.nbytes\n",
    "\n",
    "print(\"Array:\", array)\n",
    "print(\"Memory size in bytes:\", memory_size)"
   ]
  },
  {
   "cell_type": "markdown",
   "metadata": {
    "id": "xk3cx1Mn0ju9"
   },
   "source": [
    "Write a NumPy program to create an array of 10 zeros,10 ones, 10 fives.\n"
   ]
  },
  {
   "cell_type": "code",
   "execution_count": 13,
   "metadata": {
    "colab": {
     "base_uri": "https://localhost:8080/"
    },
    "id": "5NH8-Kqc21Y0",
    "outputId": "f2bd4a8d-fc05-494d-e243-25efa9aa5704"
   },
   "outputs": [
    {
     "name": "stdout",
     "output_type": "stream",
     "text": [
      "Array of 10 zeros: [0 0 0 0 0 0 0 0 0 0]\n",
      "Array of 10 ones: [1 1 1 1 1 1 1 1 1 1]\n",
      "Array of 10 fives: [5 5 5 5 5 5 5 5 5 5]\n"
     ]
    }
   ],
   "source": [
    "zeros_array = np.zeros(10, dtype=int)\n",
    "ones_array = np.ones(10, dtype=int)\n",
    "fives_array = np.full(10, 5, dtype=int)\n",
    "\n",
    "print(\"Array of 10 zeros:\", zeros_array)\n",
    "print(\"Array of 10 ones:\", ones_array)\n",
    "print(\"Array of 10 fives:\", fives_array)"
   ]
  },
  {
   "cell_type": "markdown",
   "metadata": {
    "id": "NrBK6WQh0jsV"
   },
   "source": [
    "Write a NumPy program to create an array of the integers from 30 to70.\n"
   ]
  },
  {
   "cell_type": "code",
   "execution_count": 14,
   "metadata": {
    "colab": {
     "base_uri": "https://localhost:8080/"
    },
    "id": "iYWhOFDC21-M",
    "outputId": "ce9bc47e-6736-4ff3-da7c-282918fd9dbc"
   },
   "outputs": [
    {
     "data": {
      "text/plain": [
       "array([30, 31, 32, 33, 34, 35, 36, 37, 38, 39, 40, 41, 42, 43, 44, 45, 46,\n",
       "       47, 48, 49, 50, 51, 52, 53, 54, 55, 56, 57, 58, 59, 60, 61, 62, 63,\n",
       "       64, 65, 66, 67, 68, 69, 70])"
      ]
     },
     "execution_count": 14,
     "metadata": {},
     "output_type": "execute_result"
    }
   ],
   "source": [
    "array_range = np.arange(30, 71)\n",
    "\n",
    "array_range"
   ]
  },
  {
   "cell_type": "markdown",
   "metadata": {
    "id": "7p8pptSd0jpn"
   },
   "source": [
    "Write a NumPy program to create an array of all the even integers from 30 to 70.\n"
   ]
  },
  {
   "cell_type": "code",
   "execution_count": 15,
   "metadata": {
    "colab": {
     "base_uri": "https://localhost:8080/"
    },
    "id": "US_mf8VG22ak",
    "outputId": "24c8f4d0-6bb0-4222-bdc4-69d35db9c5ad"
   },
   "outputs": [
    {
     "data": {
      "text/plain": [
       "array([30, 32, 34, 36, 38, 40, 42, 44, 46, 48, 50, 52, 54, 56, 58, 60, 62,\n",
       "       64, 66, 68, 70])"
      ]
     },
     "execution_count": 15,
     "metadata": {},
     "output_type": "execute_result"
    }
   ],
   "source": [
    "even_array = np.arange(30, 71, 2)\n",
    "\n",
    "even_array"
   ]
  },
  {
   "cell_type": "markdown",
   "metadata": {
    "id": "7UXGfECu0jm9"
   },
   "source": [
    "Write a NumPy program to create a 3x3 identity matrix.\n"
   ]
  },
  {
   "cell_type": "code",
   "execution_count": 16,
   "metadata": {
    "colab": {
     "base_uri": "https://localhost:8080/"
    },
    "id": "YQI4UEIL225D",
    "outputId": "51e4540f-306b-450d-ec91-994a4eed8029"
   },
   "outputs": [
    {
     "data": {
      "text/plain": [
       "array([[1., 0., 0.],\n",
       "       [0., 1., 0.],\n",
       "       [0., 0., 1.]])"
      ]
     },
     "execution_count": 16,
     "metadata": {},
     "output_type": "execute_result"
    }
   ],
   "source": [
    "matrix_3x3 = np.eye(3)\n",
    "\n",
    "matrix_3x3"
   ]
  },
  {
   "cell_type": "markdown",
   "metadata": {
    "id": "HUelzkEy0jkW"
   },
   "source": [
    "Write a NumPy program to generate a random number between 0 and 1.\n"
   ]
  },
  {
   "cell_type": "code",
   "execution_count": 17,
   "metadata": {
    "colab": {
     "base_uri": "https://localhost:8080/"
    },
    "id": "588LlFae23rs",
    "outputId": "b4b5d7a6-d659-46e2-8fe7-5fccd6e52d4e"
   },
   "outputs": [
    {
     "data": {
      "text/plain": [
       "0.3742428577872393"
      ]
     },
     "execution_count": 17,
     "metadata": {},
     "output_type": "execute_result"
    }
   ],
   "source": [
    "random_number = np.random.rand()\n",
    "\n",
    "random_number"
   ]
  },
  {
   "cell_type": "markdown",
   "metadata": {
    "id": "QoWaa9V50jh1"
   },
   "source": [
    "Write a NumPy program to generate an array of 15 random numbers from a standard normal distribution."
   ]
  },
  {
   "cell_type": "code",
   "execution_count": 18,
   "metadata": {
    "colab": {
     "base_uri": "https://localhost:8080/"
    },
    "id": "bNZXCal-24Ot",
    "outputId": "1cdc3ca8-17f0-47ed-956f-505aca3df088"
   },
   "outputs": [
    {
     "data": {
      "text/plain": [
       "array([ 1.59726122,  1.2997025 ,  0.77700721, -0.20498893,  0.14592984,\n",
       "        0.55659171,  0.01216762,  0.15112458,  0.51261186,  1.20142985,\n",
       "        1.4280618 ,  0.77585776, -1.68974167,  1.340999  , -0.13443497])"
      ]
     },
     "execution_count": 18,
     "metadata": {},
     "output_type": "execute_result"
    }
   ],
   "source": [
    "array_random = np.random.randn(15)\n",
    "\n",
    "array_random"
   ]
  },
  {
   "cell_type": "markdown",
   "metadata": {
    "id": "TT1yULDy0jfN"
   },
   "source": [
    "Write a NumPy program to create a vector with values ranging from 15 to 55 and print all values\n",
    "except the first and last.\n"
   ]
  },
  {
   "cell_type": "code",
   "execution_count": 19,
   "metadata": {
    "colab": {
     "base_uri": "https://localhost:8080/"
    },
    "id": "oEqZYH1225B0",
    "outputId": "ff196064-d5e3-4195-dc1f-7e08b1e089ee"
   },
   "outputs": [
    {
     "name": "stdout",
     "output_type": "stream",
     "text": [
      "[16 17 18 19 20 21 22 23 24 25 26 27 28 29 30 31 32 33 34 35 36 37 38 39\n",
      " 40 41 42 43 44 45 46 47 48 49 50 51 52 53 54]\n"
     ]
    }
   ],
   "source": [
    "vector = np.arange(15, 56)\n",
    "\n",
    "print(vector[1:-1])"
   ]
  },
  {
   "cell_type": "markdown",
   "metadata": {
    "id": "Og5_7sJR0jcd"
   },
   "source": [
    "Write a NumPy program to create a 3X4 array using and iterate over it.\n"
   ]
  },
  {
   "cell_type": "code",
   "execution_count": 20,
   "metadata": {
    "colab": {
     "base_uri": "https://localhost:8080/"
    },
    "id": "-Yeg4NzM25ms",
    "outputId": "c99227fc-9033-4406-befb-929f5b6f0344"
   },
   "outputs": [
    {
     "data": {
      "text/plain": [
       "array([[ 1,  2,  3,  4],\n",
       "       [ 5,  6,  7,  8],\n",
       "       [ 9, 10, 11, 12]])"
      ]
     },
     "execution_count": 20,
     "metadata": {},
     "output_type": "execute_result"
    }
   ],
   "source": [
    "array_3x4 = np.array([[1, 2, 3, 4], [5, 6, 7, 8], [9, 10, 11, 12]])\n",
    "\n",
    "array_3x4"
   ]
  },
  {
   "cell_type": "markdown",
   "metadata": {
    "id": "RjUoprrw0jZ9"
   },
   "source": [
    "Write a NumPy program to create a vector of length 10 with values evenly distributed between 5\n",
    "and 50.\n"
   ]
  },
  {
   "cell_type": "code",
   "execution_count": 21,
   "metadata": {
    "colab": {
     "base_uri": "https://localhost:8080/"
    },
    "id": "_sqm7AN_HwQ2",
    "outputId": "df3424cf-7c36-4ff5-dadd-8a8688419304"
   },
   "outputs": [
    {
     "data": {
      "text/plain": [
       "array([ 5., 10., 15., 20., 25., 30., 35., 40., 45., 50.])"
      ]
     },
     "execution_count": 21,
     "metadata": {},
     "output_type": "execute_result"
    }
   ],
   "source": [
    "arr = np.linspace(5, 50, 10)\n",
    "\n",
    "arr"
   ]
  },
  {
   "cell_type": "markdown",
   "metadata": {
    "id": "OuOiQjzm0jXW"
   },
   "source": [
    "Write a NumPy program to create a vector with values from 0 to 20 and change the sign of the\n",
    "numbers in the range from 9 to 15.\n"
   ]
  },
  {
   "cell_type": "code",
   "execution_count": 22,
   "metadata": {
    "colab": {
     "base_uri": "https://localhost:8080/"
    },
    "id": "qn2StRCB27Fz",
    "outputId": "e134c495-ca8d-4ec6-f2c7-7bb16d2b9179"
   },
   "outputs": [
    {
     "data": {
      "text/plain": [
       "array([  0,   1,   2,   3,   4,   5,   6,   7,   8,  -9, -10, -11, -12,\n",
       "       -13, -14, -15,  16,  17,  18,  19,  20])"
      ]
     },
     "execution_count": 22,
     "metadata": {},
     "output_type": "execute_result"
    }
   ],
   "source": [
    "arr = np.arange(21)\n",
    "\n",
    "arr[(arr >= 9) & (arr <= 15)] *= -1\n",
    "\n",
    "arr"
   ]
  },
  {
   "cell_type": "markdown",
   "metadata": {
    "id": "CKUa1vil0jUt"
   },
   "source": [
    "Write a NumPy program to create a vector of length 5 filled with arbitrary integers from 0 to 10.\n"
   ]
  },
  {
   "cell_type": "code",
   "execution_count": 23,
   "metadata": {
    "colab": {
     "base_uri": "https://localhost:8080/"
    },
    "id": "9w4j0_nb27pL",
    "outputId": "0830a2de-c69b-4e35-a826-30c6f73bff2f"
   },
   "outputs": [
    {
     "data": {
      "text/plain": [
       "array([8, 6, 6, 6, 2])"
      ]
     },
     "execution_count": 23,
     "metadata": {},
     "output_type": "execute_result"
    }
   ],
   "source": [
    "arr = np.random.randint(0, 11, 5)\n",
    "\n",
    "arr"
   ]
  },
  {
   "cell_type": "markdown",
   "metadata": {
    "id": "sVt6MjcW0jR9"
   },
   "source": [
    "Write a NumPy program to multiply the values of two given vectors."
   ]
  },
  {
   "cell_type": "code",
   "execution_count": 24,
   "metadata": {
    "colab": {
     "base_uri": "https://localhost:8080/"
    },
    "id": "8BfLeGAO2-PD",
    "outputId": "92f02c0b-618e-4b8a-8a6d-3ccc188f301b"
   },
   "outputs": [
    {
     "data": {
      "text/plain": [
       "array([ 4, 10, 18])"
      ]
     },
     "execution_count": 24,
     "metadata": {},
     "output_type": "execute_result"
    }
   ],
   "source": [
    "arr1 = np.array([1,2,3])\n",
    "arr2 = np.array([4,5,6])\n",
    "\n",
    "arr1 * arr2"
   ]
  },
  {
   "cell_type": "markdown",
   "metadata": {
    "id": "SEniFXt81nMk"
   },
   "source": [
    "Write a NumPy program to create a 3x4 matrix filled with values from 10 to 21.\n"
   ]
  },
  {
   "cell_type": "code",
   "execution_count": 25,
   "metadata": {
    "colab": {
     "base_uri": "https://localhost:8080/"
    },
    "id": "d5NcJFzI2-qS",
    "outputId": "67381d03-b0e5-4fe0-f341-5e33719fb98e"
   },
   "outputs": [
    {
     "data": {
      "text/plain": [
       "array([[10, 11, 12, 13],\n",
       "       [14, 15, 16, 17],\n",
       "       [18, 19, 20, 21]])"
      ]
     },
     "execution_count": 25,
     "metadata": {},
     "output_type": "execute_result"
    }
   ],
   "source": [
    "arr_3x4 = np.arange(10, 22).reshape(3, 4)\n",
    "\n",
    "arr_3x4"
   ]
  },
  {
   "cell_type": "markdown",
   "metadata": {
    "id": "UTlJ5OGR1nJ8"
   },
   "source": [
    "Write a NumPy program to find the number of rows and columns of a given matrix.\n"
   ]
  },
  {
   "cell_type": "code",
   "execution_count": 26,
   "metadata": {
    "id": "YHIWG_yz2_Oy"
   },
   "outputs": [],
   "source": [
    "arr = np.array([[1, 2, 3], [4, 5, 6], [7, 8, 9]])\n",
    "\n",
    "num_rows = arr.shape[0]\n",
    "num_columns = arr.shape[1]"
   ]
  },
  {
   "cell_type": "markdown",
   "metadata": {
    "id": "iejA0aPe1nHs"
   },
   "source": [
    "Write a NumPy program to create a 3x3 identity matrix, i.e. diagonal elements are 1, the rest are 0.\n"
   ]
  },
  {
   "cell_type": "code",
   "execution_count": 27,
   "metadata": {
    "colab": {
     "base_uri": "https://localhost:8080/"
    },
    "id": "fGvRjMTSRG49",
    "outputId": "0a56d963-d64b-4ccb-a123-452c374f42ed"
   },
   "outputs": [
    {
     "data": {
      "text/plain": [
       "array([[1., 0., 0.],\n",
       "       [0., 1., 0.],\n",
       "       [0., 0., 1.]])"
      ]
     },
     "execution_count": 27,
     "metadata": {},
     "output_type": "execute_result"
    }
   ],
   "source": [
    "arr = np.eye(3)\n",
    "\n",
    "arr"
   ]
  },
  {
   "cell_type": "markdown",
   "metadata": {
    "id": "A2shoxsd1nEU"
   },
   "source": [
    "Write a NumPy program to create a 10x10 matrix, in which the elements on the borders will be\n",
    "equal to 1, and inside 0.\n"
   ]
  },
  {
   "cell_type": "code",
   "execution_count": 28,
   "metadata": {
    "colab": {
     "base_uri": "https://localhost:8080/"
    },
    "id": "kumbMBnb3Ai7",
    "outputId": "814c9028-fb6b-49c0-ab23-46872f51dc45"
   },
   "outputs": [
    {
     "data": {
      "text/plain": [
       "array([[1., 1., 1., 1., 1., 1., 1., 1., 1., 1.],\n",
       "       [1., 0., 0., 0., 0., 0., 0., 0., 0., 1.],\n",
       "       [1., 0., 0., 0., 0., 0., 0., 0., 0., 1.],\n",
       "       [1., 0., 0., 0., 0., 0., 0., 0., 0., 1.],\n",
       "       [1., 0., 0., 0., 0., 0., 0., 0., 0., 1.],\n",
       "       [1., 0., 0., 0., 0., 0., 0., 0., 0., 1.],\n",
       "       [1., 0., 0., 0., 0., 0., 0., 0., 0., 1.],\n",
       "       [1., 0., 0., 0., 0., 0., 0., 0., 0., 1.],\n",
       "       [1., 0., 0., 0., 0., 0., 0., 0., 0., 1.],\n",
       "       [1., 1., 1., 1., 1., 1., 1., 1., 1., 1.]])"
      ]
     },
     "execution_count": 28,
     "metadata": {},
     "output_type": "execute_result"
    }
   ],
   "source": [
    "arr = np.ones((10, 10))\n",
    "arr[1:-1, 1:-1] = 0\n",
    "\n",
    "arr"
   ]
  },
  {
   "cell_type": "markdown",
   "metadata": {
    "id": "QamDjwD31nBc"
   },
   "source": [
    "Write a NumPy program to create a 5x5 zero matrix with elements on the main diagonal equal to 1,\n",
    "2, 3, 4, 5.\n"
   ]
  },
  {
   "cell_type": "code",
   "execution_count": 29,
   "metadata": {
    "colab": {
     "base_uri": "https://localhost:8080/"
    },
    "id": "SpkjvJV_3BKD",
    "outputId": "fa1f23b3-2d07-4792-e934-a6411224388b"
   },
   "outputs": [
    {
     "data": {
      "text/plain": [
       "array([[1, 0, 0, 0, 0],\n",
       "       [0, 2, 0, 0, 0],\n",
       "       [0, 0, 3, 0, 0],\n",
       "       [0, 0, 0, 4, 0],\n",
       "       [0, 0, 0, 0, 5]])"
      ]
     },
     "execution_count": 29,
     "metadata": {},
     "output_type": "execute_result"
    }
   ],
   "source": [
    "arr = np.diag([1, 2, 3, 4, 5])\n",
    "\n",
    "arr"
   ]
  },
  {
   "cell_type": "markdown",
   "metadata": {
    "id": "S74TXbHW1m-k"
   },
   "source": [
    "Write a NumPy program to create a 4x4 matrix in which 0 and 1 are staggered, with zeros on the\n",
    "main diagonal.\n"
   ]
  },
  {
   "cell_type": "code",
   "execution_count": 30,
   "metadata": {
    "colab": {
     "base_uri": "https://localhost:8080/"
    },
    "id": "74NGr3tN3B36",
    "outputId": "410b7089-5418-4cd6-864b-526b7cc6537f"
   },
   "outputs": [
    {
     "data": {
      "text/plain": [
       "array([[0., 1., 0., 1.],\n",
       "       [1., 0., 1., 0.],\n",
       "       [0., 1., 0., 1.],\n",
       "       [1., 0., 1., 0.]])"
      ]
     },
     "execution_count": 30,
     "metadata": {},
     "output_type": "execute_result"
    }
   ],
   "source": [
    "arr = np.zeros((4, 4))\n",
    "arr[::2, 1::2] = 1\n",
    "arr[1::2, ::2] = 1\n",
    "\n",
    "arr"
   ]
  },
  {
   "cell_type": "markdown",
   "metadata": {
    "id": "EMomryhU1m7s"
   },
   "source": [
    "Write a NumPy program to create a 3x3x3 array filled with arbitrary values.\n"
   ]
  },
  {
   "cell_type": "code",
   "execution_count": 31,
   "metadata": {
    "colab": {
     "base_uri": "https://localhost:8080/"
    },
    "id": "56fImoap3C0b",
    "outputId": "4c1afec4-7a04-470c-c0ef-fdbb3d7ae1e6"
   },
   "outputs": [
    {
     "data": {
      "text/plain": [
       "array([[[0.81503539, 0.97548285, 0.94349258],\n",
       "        [0.58778166, 0.86860492, 0.1121265 ],\n",
       "        [0.1637486 , 0.04520886, 0.50418778]],\n",
       "\n",
       "       [[0.79013703, 0.72789618, 0.38492742],\n",
       "        [0.58420012, 0.44351294, 0.82851248],\n",
       "        [0.70111076, 0.79781983, 0.57914787]],\n",
       "\n",
       "       [[0.57575915, 0.7910904 , 0.73467965],\n",
       "        [0.00973232, 0.44956442, 0.26892796],\n",
       "        [0.58209478, 0.19901833, 0.09264609]]])"
      ]
     },
     "execution_count": 31,
     "metadata": {},
     "output_type": "execute_result"
    }
   ],
   "source": [
    "arr = np.random.rand(3, 3, 3)\n",
    "\n",
    "arr"
   ]
  },
  {
   "cell_type": "markdown",
   "metadata": {
    "id": "2edceTiD1m5E"
   },
   "source": [
    "Write a NumPy program to compute sum of all elements, sum of each column and sum of each row\n",
    "of a given array.\n"
   ]
  },
  {
   "cell_type": "code",
   "execution_count": 32,
   "metadata": {
    "colab": {
     "base_uri": "https://localhost:8080/"
    },
    "id": "ChD4vRiC3Dci",
    "outputId": "7809004f-4fe5-47dd-8e70-3c5fd6acaa59"
   },
   "outputs": [
    {
     "name": "stdout",
     "output_type": "stream",
     "text": [
      "Total Sum: 45\n",
      "Column Sum: [12 15 18]\n",
      "Row Sum: [ 6 15 24]\n"
     ]
    }
   ],
   "source": [
    "arr = np.array([[1, 2, 3], [4, 5, 6], [7, 8, 9]])\n",
    "\n",
    "total_sum = np.sum(arr)\n",
    "column_sum = np.sum(arr, axis=0)\n",
    "row_sum = np.sum(arr, axis=1)\n",
    "\n",
    "print(\"Total Sum:\", total_sum)\n",
    "print(\"Column Sum:\", column_sum)\n",
    "print(\"Row Sum:\", row_sum)"
   ]
  },
  {
   "cell_type": "markdown",
   "metadata": {
    "id": "oN9OIaZQ1m2U"
   },
   "source": [
    "Write a NumPy program to compute the inner product of two given vectors.\n"
   ]
  },
  {
   "cell_type": "code",
   "execution_count": 33,
   "metadata": {
    "id": "C6lB5LkS3EGj"
   },
   "outputs": [
    {
     "name": "stdout",
     "output_type": "stream",
     "text": [
      "Vector 1: [1 2 3]\n",
      "Vector 2: [4 5 6]\n",
      "Inner Product: 32\n"
     ]
    }
   ],
   "source": [
    "\n",
    "vector1 = np.array([1, 2, 3])\n",
    "vector2 = np.array([4, 5, 6])\n",
    "\n",
    "inner_product = np.inner(vector1, vector2)\n",
    "\n",
    "print(\"Vector 1:\", vector1)\n",
    "print(\"Vector 2:\", vector2)\n",
    "print(\"Inner Product:\", inner_product)\n"
   ]
  },
  {
   "cell_type": "markdown",
   "metadata": {
    "id": "M83Udlsj1mzM"
   },
   "source": [
    "Write a NumPy program to add a vector to each row of a given matrix.\n"
   ]
  },
  {
   "cell_type": "code",
   "execution_count": 34,
   "metadata": {
    "colab": {
     "base_uri": "https://localhost:8080/"
    },
    "id": "hRGGhgII3Ep7",
    "outputId": "a1326d28-5db5-4bfb-8fd7-21062189b268"
   },
   "outputs": [
    {
     "name": "stdout",
     "output_type": "stream",
     "text": [
      "Matrix:\n",
      "[[1 2 3]\n",
      " [4 5 6]\n",
      " [7 8 9]]\n",
      "Vector:\n",
      "[10 20 30]\n",
      "Result:\n",
      "[[11 22 33]\n",
      " [14 25 36]\n",
      " [17 28 39]]\n"
     ]
    }
   ],
   "source": [
    "arr = np.array([[1, 2, 3], [4, 5, 6], [7, 8, 9]])\n",
    "vector = np.array([10, 20, 30])\n",
    "\n",
    "result = arr + vector\n",
    "\n",
    "print(\"Matrix:\")\n",
    "print(arr)\n",
    "print(\"Vector:\")\n",
    "print(vector)\n",
    "print(\"Result:\")\n",
    "print(result)"
   ]
  },
  {
   "cell_type": "markdown",
   "metadata": {
    "id": "A4RgV52w1mqU"
   },
   "source": [
    "Write a NumPy program to compute the x and y coordinates for points on a sine curve and plot the\n",
    "points using matplotlib."
   ]
  },
  {
   "cell_type": "code",
   "execution_count": 35,
   "metadata": {
    "colab": {
     "base_uri": "https://localhost:8080/",
     "height": 472
    },
    "id": "rYEqvEIz3FOb",
    "outputId": "30324f5a-9feb-428b-842f-e00e5ee5e518"
   },
   "outputs": [
    {
     "data": {
      "image/png": "[encoded data removed]",
      "text/plain": [
       "<Figure size 432x288 with 1 Axes>"
      ]
     },
     "metadata": {
      "needs_background": "light"
     },
     "output_type": "display_data"
    }
   ],
   "source": [
    "arr = np.linspace(0, 2 * np.pi, 100)\n",
    "\n",
    "x = np.sin(arr)\n",
    "y = np.cos(arr)\n",
    "\n",
    "import matplotlib.pyplot as plt\n",
    "\n",
    "plt.plot(x, y)\n",
    "plt.xlabel('x')\n",
    "plt.ylabel('y')\n",
    "plt.title('Sine Curve')\n",
    "plt.grid(True)\n",
    "plt.show()"
   ]
  },
  {
   "cell_type": "markdown",
   "metadata": {
    "id": "Mbw0EmuX1l7t"
   },
   "source": [
    "Write a NumPy program to convert numpy dtypes to native python types."
   ]
  },
  {
   "cell_type": "code",
   "execution_count": 36,
   "metadata": {
    "colab": {
     "base_uri": "https://localhost:8080/"
    },
    "id": "ZeOsd-3w3Fub",
    "outputId": "1b5e9176-2e4e-49c3-e498-1fee6c279580"
   },
   "outputs": [
    {
     "name": "stdout",
     "output_type": "stream",
     "text": [
      "[1, 2, 3, 4]\n"
     ]
    }
   ],
   "source": [
    "arr = np.array([1, 2, 3, 4])\n",
    "\n",
    "print(arr.tolist())"
   ]
  },
  {
   "cell_type": "markdown",
   "metadata": {
    "id": "z6vg33p_0jLW"
   },
   "source": [
    "Write a NumPy program to find the missing data in a given array.\n"
   ]
  },
  {
   "cell_type": "code",
   "execution_count": 37,
   "metadata": {
    "colab": {
     "base_uri": "https://localhost:8080/"
    },
    "id": "zlXi2E-53GLi",
    "outputId": "48ca18f6-580f-4cba-8c2d-fc82a34f775d"
   },
   "outputs": [
    {
     "name": "stdout",
     "output_type": "stream",
     "text": [
      "Original Array:\n",
      "[ 1.  2.  3. nan  5.  6. nan]\n",
      "[3 6]\n"
     ]
    }
   ],
   "source": [
    "arr = np.array([1, 2, 3, np.nan, 5, 6, np.nan])\n",
    "\n",
    "missing_indices = np.isnan(arr)\n",
    "\n",
    "print(\"Original Array:\")\n",
    "print(arr)\n",
    "print(np.where(missing_indices)[0])"
   ]
  },
  {
   "cell_type": "markdown",
   "metadata": {
    "id": "vD7yyCPd2OMR"
   },
   "source": [
    "Write a NumPy program to sort a given array by row and column in ascending order.\n"
   ]
  },
  {
   "cell_type": "code",
   "execution_count": 38,
   "metadata": {
    "colab": {
     "base_uri": "https://localhost:8080/"
    },
    "id": "VOhY47nR3GzK",
    "outputId": "9801f2e4-1c63-480f-dda4-8741a1da9020"
   },
   "outputs": [
    {
     "name": "stdout",
     "output_type": "stream",
     "text": [
      "Original Array:\n",
      "[[3 2 1]\n",
      " [6 5 4]\n",
      " [9 8 7]]\n",
      "Sorted by Row:\n",
      "[[1 2 3]\n",
      " [4 5 6]\n",
      " [7 8 9]]\n",
      "Sorted by Column:\n",
      "[[3 2 1]\n",
      " [6 5 4]\n",
      " [9 8 7]]\n"
     ]
    }
   ],
   "source": [
    "arr = np.array([[3, 2, 1], [6, 5, 4], [9, 8, 7]])\n",
    "\n",
    "sorted_arr_row = np.sort(arr, axis=1)\n",
    "sorted_arr_col = np.sort(arr, axis=0)\n",
    "\n",
    "print(\"Original Array:\")\n",
    "print(arr)\n",
    "print(\"Sorted by Row:\")\n",
    "print(sorted_arr_row)\n",
    "print(\"Sorted by Column:\")\n",
    "print(sorted_arr_col)"
   ]
  },
  {
   "cell_type": "markdown",
   "metadata": {
    "id": "9_VBOSrj2OJZ"
   },
   "source": [
    "Write a NumPy program to extract all numbers from a given array which are less and greater than a\n",
    "specified number.\n"
   ]
  },
  {
   "cell_type": "code",
   "execution_count": 39,
   "metadata": {
    "colab": {
     "base_uri": "https://localhost:8080/"
    },
    "id": "_x4LU3Sw3HqT",
    "outputId": "bd488285-dc19-4dc9-ecf4-696839136edb"
   },
   "outputs": [
    {
     "name": "stdout",
     "output_type": "stream",
     "text": [
      "Original array: [ 1  2  3  4  5  6  7  8  9 10]\n",
      "Numbers less than 5 : [1 2 3 4]\n",
      "Numbers greater than 5 : [ 6  7  8  9 10]\n"
     ]
    }
   ],
   "source": [
    "\n",
    "arr = np.array([1, 2, 3, 4, 5, 6, 7, 8, 9, 10])\n",
    "specified_number = 5\n",
    "\n",
    "less_than = arr[arr < specified_number]\n",
    "greater_than = arr[arr > specified_number]\n",
    "\n",
    "print(\"Original array:\", arr)\n",
    "print(\"Numbers less than\", specified_number, \":\", less_than)\n",
    "print(\"Numbers greater than\", specified_number, \":\", greater_than)\n"
   ]
  },
  {
   "cell_type": "markdown",
   "metadata": {
    "id": "GiKyR3F52OF4"
   },
   "source": [
    "Write a NumPy program to replace all numbers in a given array which is equal, less and greater to a\n",
    "given number.\n"
   ]
  },
  {
   "cell_type": "code",
   "execution_count": 40,
   "metadata": {
    "colab": {
     "base_uri": "https://localhost:8080/"
    },
    "id": "5UDZPynw3Ijq",
    "outputId": "0e464a1e-a14e-4b9c-a5d1-348f3bd7f2da"
   },
   "outputs": [
    {
     "name": "stdout",
     "output_type": "stream",
     "text": [
      "Original array: [-1 -1 -1 -1 -1  1  1  1  1  1]\n"
     ]
    }
   ],
   "source": [
    "original_arr = np.array([1, 2, 3, 4, 5, 6, 7, 8, 9, 10])\n",
    "specified_number = 5\n",
    "\n",
    "\n",
    "arr = original_arr.copy()\n",
    "\n",
    "arr[arr == specified_number] = 0\n",
    "arr[arr < specified_number] = -1\n",
    "arr[arr > specified_number] = 1\n",
    "\n",
    "print(\"Original array:\", arr)\n"
   ]
  },
  {
   "cell_type": "markdown",
   "metadata": {
    "id": "UhY-oodJ2OCh"
   },
   "source": [
    "Write a NumPy program to create an array of equal shape and data type of a given array.\n"
   ]
  },
  {
   "cell_type": "code",
   "execution_count": 41,
   "metadata": {
    "colab": {
     "base_uri": "https://localhost:8080/"
    },
    "id": "9Gx2ai-L3I_K",
    "outputId": "391000d3-de53-4c66-9603-f4e093063ba9"
   },
   "outputs": [
    {
     "name": "stdout",
     "output_type": "stream",
     "text": [
      "Original array:\n",
      "[[1 2 3]\n",
      " [4 5 6]\n",
      " [7 8 9]]\n",
      "New array with the same shape and data type:\n",
      "[[         2          0          2]\n",
      " [         0         16          0]\n",
      " [         8          0 -618457805]]\n"
     ]
    }
   ],
   "source": [
    "arr = np.array([[1, 2, 3], [4, 5, 6], [7, 8, 9]])\n",
    "\n",
    "new_arr = np.empty_like(arr)\n",
    "\n",
    "print(\"Original array:\")\n",
    "print(arr)\n",
    "print(\"New array with the same shape and data type:\")\n",
    "print(new_arr)"
   ]
  },
  {
   "cell_type": "markdown",
   "metadata": {
    "id": "jYbQ-CXx2Njx"
   },
   "source": [
    "Write a NumPy program to create a three-dimension array with shape (3,5,4) and set to a variable.\n"
   ]
  },
  {
   "cell_type": "code",
   "execution_count": 42,
   "metadata": {
    "colab": {
     "base_uri": "https://localhost:8080/"
    },
    "id": "ubcZYNpj3JUj",
    "outputId": "494a7449-48e9-4106-8370-255799747b9c"
   },
   "outputs": [
    {
     "name": "stdout",
     "output_type": "stream",
     "text": [
      "[[[0. 0. 0. 0.]\n",
      "  [0. 0. 0. 0.]\n",
      "  [0. 0. 0. 0.]\n",
      "  [0. 0. 0. 0.]\n",
      "  [0. 0. 0. 0.]]\n",
      "\n",
      " [[0. 0. 0. 0.]\n",
      "  [0. 0. 0. 0.]\n",
      "  [0. 0. 0. 0.]\n",
      "  [0. 0. 0. 0.]\n",
      "  [0. 0. 0. 0.]]\n",
      "\n",
      " [[0. 0. 0. 0.]\n",
      "  [0. 0. 0. 0.]\n",
      "  [0. 0. 0. 0.]\n",
      "  [0. 0. 0. 0.]\n",
      "  [0. 0. 0. 0.]]]\n"
     ]
    }
   ],
   "source": [
    "arr = np.zeros((3, 5, 4))\n",
    "\n",
    "print(arr)"
   ]
  },
  {
   "cell_type": "markdown",
   "metadata": {
    "id": "liUIDkgW0imO"
   },
   "source": [
    "Write a NumPy program to multiply two given arrays of same size element-by-element."
   ]
  },
  {
   "cell_type": "code",
   "execution_count": 43,
   "metadata": {
    "colab": {
     "base_uri": "https://localhost:8080/"
    },
    "id": "rJAuwdDS0cGZ",
    "outputId": "5935f52f-5877-4236-b641-43acfc922cba"
   },
   "outputs": [
    {
     "name": "stdout",
     "output_type": "stream",
     "text": [
      "Result of element-wise multiplication:\n",
      "[[ 9 16 21]\n",
      " [24 25 24]\n",
      " [21 16  9]]\n"
     ]
    }
   ],
   "source": [
    "arr1 = np.array([[1, 2, 3], [4, 5, 6], [7, 8, 9]])\n",
    "arr2 = np.array([[9, 8, 7], [6, 5, 4], [3, 2, 1]])\n",
    "\n",
    "result = arr1 * arr2\n",
    "\n",
    "print(\"Result of element-wise multiplication:\")\n",
    "print(result)"
   ]
  }
 ],
 "metadata": {
  "colab": {
   "provenance": []
  },
  "kernelspec": {
   "display_name": "Python 3",
   "language": "python",
   "name": "python3"
  },
  "language_info": {
   "codemirror_mode": {
    "name": "ipython",
    "version": 3
   },
   "file_extension": ".py",
   "mimetype": "text/x-python",
   "name": "python",
   "nbconvert_exporter": "python",
   "pygments_lexer": "ipython3",
   "version": "3.8.5"
  }
 },
 "nbformat": 4,
 "nbformat_minor": 1
}
